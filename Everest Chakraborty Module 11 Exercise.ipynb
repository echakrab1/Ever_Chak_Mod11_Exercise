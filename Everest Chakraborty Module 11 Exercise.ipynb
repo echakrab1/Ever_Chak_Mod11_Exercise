{
 "cells": [
  {
   "cell_type": "markdown",
   "metadata": {},
   "source": [
    "### Exercise 1\n",
    "Create a multiplication table from 1 to 10"
   ]
  },
  {
   "cell_type": "code",
   "execution_count": 5,
   "metadata": {},
   "outputs": [
    {
     "name": "stdout",
     "output_type": "stream",
     "text": [
      "Please enter a number: 10\n",
      "10 * 1 = 10.\n",
      "10 * 2 = 20.\n",
      "10 * 3 = 30.\n",
      "10 * 4 = 40.\n",
      "10 * 5 = 50.\n",
      "10 * 6 = 60.\n",
      "10 * 7 = 70.\n",
      "10 * 8 = 80.\n",
      "10 * 9 = 90.\n",
      "10 * 10 = 100.\n"
     ]
    }
   ],
   "source": [
    "x = int(input(\"Please enter a number: \"))\n",
    "for index in range(1,11) :\n",
    "    print(f\"{x} * {index} = {x * index}.\")"
   ]
  },
  {
   "cell_type": "markdown",
   "metadata": {},
   "source": [
    "### Exercise 2\n",
    "Write a program to find the Fibonacci numbers where each number is the sum of the two preceding ones, starting from 0 and 1. \n",
    "\n",
    "    e.g.\n",
    "    0, 1, 1, 2, 3, 5, 8, ...\n",
    "    \n",
    "Ask a user to enter a number. Next, generate user specified number of Fibonacci numbers into a list. Then print out the list. The output should look something like this:\n",
    "\n",
    "    How many Fibonacci numbers would you like to generate? 10    \n",
    "    10 Fibonacci numbers are [0, 1, 1, 2, 3, 5, 8, 13, 21, 34]."
   ]
  },
  {
   "cell_type": "code",
   "execution_count": 20,
   "metadata": {},
   "outputs": [
    {
     "name": "stdout",
     "output_type": "stream",
     "text": [
      "How many Fibonacci numbers do you want?: 10\n",
      "The 55 Fibonacci numbers are: [0, 1, 1, 2, 3, 5, 8, 13, 21, 34].\n"
     ]
    }
   ],
   "source": [
    "numb0 = input(\"How many Fibonacci numbers do you want?: \")\n",
    "\n",
    "numb1 = 0\n",
    "numb2 = 1\n",
    "\n",
    "fib = []\n",
    "\n",
    "for i in range(0, int(numb0)) : \n",
    "    fib.append(numb1)\n",
    "    numb3 = numb1 + numb2\n",
    "    numb1 = numb2\n",
    "    numb2 = numb3\n",
    "    \n",
    "print(f\"The {numb} Fibonacci numbers are: {fib}.\")"
   ]
  },
  {
   "cell_type": "code",
   "execution_count": null,
   "metadata": {},
   "outputs": [],
   "source": []
  }
 ],
 "metadata": {
  "kernelspec": {
   "display_name": "Python 3 (ipykernel)",
   "language": "python",
   "name": "python3"
  },
  "language_info": {
   "codemirror_mode": {
    "name": "ipython",
    "version": 3
   },
   "file_extension": ".py",
   "mimetype": "text/x-python",
   "name": "python",
   "nbconvert_exporter": "python",
   "pygments_lexer": "ipython3",
   "version": "3.9.12"
  }
 },
 "nbformat": 4,
 "nbformat_minor": 4
}
